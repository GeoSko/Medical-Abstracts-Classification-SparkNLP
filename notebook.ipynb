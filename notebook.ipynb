{
  "cells": [
    {
      "cell_type": "markdown",
      "metadata": {
        "id": "auVzBbCVPcT9"
      },
      "source": [
        "# Imports"
      ]
    },
    {
      "cell_type": "code",
      "source": [
        "!pip install pyspark\n",
        "!pip install sparknlp"
      ],
      "metadata": {
        "colab": {
          "base_uri": "https://localhost:8080/"
        },
        "id": "nkI357ZtNXhP",
        "outputId": "4b65a335-e357-4d44-a7f7-b2e338f169d5"
      },
      "execution_count": null,
      "outputs": [
        {
          "output_type": "stream",
          "name": "stdout",
          "text": [
            "Requirement already satisfied: pyspark in /usr/local/lib/python3.10/dist-packages (3.4.1)\n",
            "Requirement already satisfied: py4j==0.10.9.7 in /usr/local/lib/python3.10/dist-packages (from pyspark) (0.10.9.7)\n",
            "Requirement already satisfied: sparknlp in /usr/local/lib/python3.10/dist-packages (1.0.0)\n",
            "Requirement already satisfied: spark-nlp in /usr/local/lib/python3.10/dist-packages (from sparknlp) (5.0.0)\n",
            "Requirement already satisfied: numpy in /usr/local/lib/python3.10/dist-packages (from sparknlp) (1.22.4)\n"
          ]
        }
      ]
    },
    {
      "cell_type": "code",
      "source": [
        "!git clone https://github.com/sebischair/Medical-Abstracts-TC-Corpus.git"
      ],
      "metadata": {
        "colab": {
          "base_uri": "https://localhost:8080/"
        },
        "id": "vS16wZiKOUFf",
        "outputId": "6cd1f3b1-8fb6-4410-afc1-b48eed3f63bf"
      },
      "execution_count": null,
      "outputs": [
        {
          "output_type": "stream",
          "name": "stdout",
          "text": [
            "fatal: destination path 'Medical-Abstracts-TC-Corpus' already exists and is not an empty directory.\n"
          ]
        }
      ]
    },
    {
      "cell_type": "markdown",
      "metadata": {
        "id": "gjO4LZCVPcUE"
      },
      "source": [
        "# Load Data"
      ]
    },
    {
      "cell_type": "code",
      "execution_count": null,
      "metadata": {
        "id": "IzYv1RF_PcUF"
      },
      "outputs": [],
      "source": [
        "import sparknlp\n",
        "spark = sparknlp.start(gpu=True)"
      ]
    },
    {
      "cell_type": "code",
      "source": [
        "# # path to data folder\n",
        "train_path = \"Medical-Abstracts-TC-Corpus/medical_tc_train.csv\"\n",
        "test_path = \"Medical-Abstracts-TC-Corpus/medical_tc_test.csv\"\n",
        "\n",
        "# data load\n",
        "df_train = spark.read.csv( train_path , header=True, inferSchema=True)\n",
        "df_test = spark.read.csv( test_path , header=True, inferSchema=True)"
      ],
      "metadata": {
        "id": "r82GKw0XuZJM"
      },
      "execution_count": null,
      "outputs": []
    },
    {
      "cell_type": "code",
      "source": [
        "df_train"
      ],
      "metadata": {
        "colab": {
          "base_uri": "https://localhost:8080/"
        },
        "id": "2EFr-77J3Psr",
        "outputId": "33ff4490-1416-41e6-ec06-ac2b8e7a2bcc"
      },
      "execution_count": null,
      "outputs": [
        {
          "output_type": "execute_result",
          "data": {
            "text/plain": [
              "DataFrame[condition_label: int, medical_abstract: string]"
            ]
          },
          "metadata": {},
          "execution_count": 5
        }
      ]
    },
    {
      "cell_type": "code",
      "execution_count": null,
      "metadata": {
        "colab": {
          "base_uri": "https://localhost:8080/"
        },
        "id": "MoNheFyoPcUJ",
        "outputId": "eaed2c50-dde7-4fbc-b831-3422e61f0f25"
      },
      "outputs": [
        {
          "output_type": "stream",
          "name": "stdout",
          "text": [
            "+---------------+--------------------+\n",
            "|condition_label|    medical_abstract|\n",
            "+---------------+--------------------+\n",
            "|              5|Tissue changes ar...|\n",
            "|              1|Neuropeptide Y an...|\n",
            "|              2|Sexually transmit...|\n",
            "|              1|Lipolytic factors...|\n",
            "|              3|Does carotid rest...|\n",
            "|              3|The shoulder in m...|\n",
            "|              2|The management of...|\n",
            "|              4|Pharmacomechanica...|\n",
            "|              5|Color Doppler dia...|\n",
            "|              5|Noninvasive diagn...|\n",
            "|              4|Sodium sensitive ...|\n",
            "|              1|Imaging bone tumo...|\n",
            "|              5|Closure of a bron...|\n",
            "|              1|Utility of frozen...|\n",
            "|              4|Antihypertensive ...|\n",
            "|              2|Gallbladder perfo...|\n",
            "|              1|Left ventricular ...|\n",
            "|              4|Tongue ischemia f...|\n",
            "|              5|In vitro and in v...|\n",
            "|              1|Chondrosarcoma of...|\n",
            "+---------------+--------------------+\n",
            "only showing top 20 rows\n",
            "\n"
          ]
        }
      ],
      "source": [
        "df_train.show()"
      ]
    },
    {
      "cell_type": "code",
      "execution_count": null,
      "metadata": {
        "colab": {
          "base_uri": "https://localhost:8080/"
        },
        "id": "jqLln8BdPcUK",
        "outputId": "6ee1af25-383f-4628-d7a4-f45771dc59ab"
      },
      "outputs": [
        {
          "output_type": "stream",
          "name": "stdout",
          "text": [
            "+---------------+--------------------+\n",
            "|condition_label|    medical_abstract|\n",
            "+---------------+--------------------+\n",
            "|              3|Obstructive sleep...|\n",
            "|              5|Neutrophil functi...|\n",
            "|              5|A phase II study ...|\n",
            "|              1|Flow cytometric D...|\n",
            "|              4|Paraneoplastic va...|\n",
            "|              1|Treatment of chil...|\n",
            "|              1|Expression of maj...|\n",
            "|              1|Questionable role...|\n",
            "|              5|Reversibility of ...|\n",
            "|              2|Current status of...|\n",
            "|              5|The importance of...|\n",
            "|              1|Human papillomavi...|\n",
            "|              5|Gentamicin iontop...|\n",
            "|              1|Repeat hepatic re...|\n",
            "|              5|Evidence for intr...|\n",
            "|              5|Glutamic acid and...|\n",
            "|              5|A useful techniqu...|\n",
            "|              5|The natural histo...|\n",
            "|              3|Hereditary intern...|\n",
            "|              5|Immune response o...|\n",
            "+---------------+--------------------+\n",
            "only showing top 20 rows\n",
            "\n"
          ]
        }
      ],
      "source": [
        "df_test.show()"
      ]
    },
    {
      "cell_type": "markdown",
      "source": [
        "# Remove stopwords"
      ],
      "metadata": {
        "id": "FgmHZTWU4MYx"
      }
    },
    {
      "cell_type": "code",
      "source": [
        "\n",
        "from pyspark.sql.functions import udf\n",
        "from pyspark.sql.types import StringType\n",
        "\n",
        "stop_words = [\"i\", \"me\", \"my\", \"myself\", \"we\", \"our\", \"ours\", \"ourselves\", \"you\", \"your\",\n",
        "            \"yours\", \"yourself\", \"yourselves\", \"he\", \"him\", \"his\", \"himself\", \"she\", \"her\",\n",
        "            \"hers\", \"herself\", \"it\", \"its\", \"itself\", \"they\", \"them\", \"their\", \"theirs\",\n",
        "            \"themselves\", \"what\", \"which\", \"who\", \"whom\", \"this\", \"that\", \"these\", \"those\",\n",
        "            \"am\", \"is\", \"are\", \"was\", \"were\", \"be\", \"been\", \"being\", \"have\", \"has\", \"had\",\n",
        "            \"having\", \"do\", \"does\", \"did\", \"doing\", \"a\", \"an\", \"the\", \"and\", \"but\", \"if\",\n",
        "            \"or\",\"because\", \"as\", \"until\", \"while\", \"of\", \"at\", \"by\", \"for\", \"with\", \"about\",\n",
        "            \"against\", \"between\", \"into\", \"through\", \"during\", \"before\", \"after\", \"above\",\n",
        "            \"below\", \"to\", \"from\", \"up\", \"down\", \"in\", \"out\", \"on\", \"off\", \"over\", \"under\",\n",
        "            \"again\", \"further\", \"then\", \"once\", \"here\", \"there\", \"when\", \"where\", \"why\",\n",
        "            \"how\", \"all\", \"any\", \"both\", \"each\", \"few\", \"more\", \"most\", \"other\", \"some\",\n",
        "            \"such\", \"no\", \"nor\", \"not\", \"only\", \"own\", \"same\", \"so\", \"than\", \"too\", \"very\",\n",
        "            \"s\", \"t\", \"can\", \"will\", \"just\", \"don\", \"should\", \"now\"]\n",
        "\n",
        "def remove_stopwords(text):\n",
        "    words = text.split()\n",
        "    filtered_words = [word for word in words if word.lower() not in stop_words]\n",
        "    return ' '.join(filtered_words)\n",
        "\n",
        "remove_stopwords_udf = udf(remove_stopwords, StringType())\n",
        "\n",
        "df_train = df_train.withColumn(\"medical_abstract\", remove_stopwords_udf(\"medical_abstract\"))"
      ],
      "metadata": {
        "id": "k4f7CZcJ3t56"
      },
      "execution_count": null,
      "outputs": []
    },
    {
      "cell_type": "code",
      "source": [
        "df_train.show()"
      ],
      "metadata": {
        "colab": {
          "base_uri": "https://localhost:8080/"
        },
        "id": "X84mitF03wfk",
        "outputId": "7e864721-1a41-4c3c-dd12-ed2737648075"
      },
      "execution_count": null,
      "outputs": [
        {
          "output_type": "stream",
          "name": "stdout",
          "text": [
            "+---------------+--------------------+\n",
            "|condition_label|    medical_abstract|\n",
            "+---------------+--------------------+\n",
            "|              5|Tissue changes ar...|\n",
            "|              1|Neuropeptide Y ne...|\n",
            "|              2|Sexually transmit...|\n",
            "|              1|Lipolytic factors...|\n",
            "|              3|carotid restenosi...|\n",
            "|              3|shoulder multiple...|\n",
            "|              2|management postop...|\n",
            "|              4|Pharmacomechanica...|\n",
            "|              5|Color Doppler dia...|\n",
            "|              5|Noninvasive diagn...|\n",
            "|              4|Sodium sensitive ...|\n",
            "|              1|Imaging bone tumo...|\n",
            "|              5|Closure bronchopl...|\n",
            "|              1|Utility frozen-se...|\n",
            "|              4|Antihypertensive ...|\n",
            "|              2|Gallbladder perfo...|\n",
            "|              1|Left ventricular ...|\n",
            "|              4|Tongue ischemia s...|\n",
            "|              5|vitro vivo effect...|\n",
            "|              1|Chondrosarcoma ja...|\n",
            "+---------------+--------------------+\n",
            "only showing top 20 rows\n",
            "\n"
          ]
        }
      ]
    },
    {
      "cell_type": "markdown",
      "source": [
        "# Word Embeddings"
      ],
      "metadata": {
        "id": "hVPDDKeL6RMB"
      }
    },
    {
      "cell_type": "code",
      "source": [
        "# Import the required modules and classes\n",
        "from sparknlp.base import DocumentAssembler, Pipeline\n",
        "from sparknlp.annotator import Tokenizer,WordEmbeddingsModel\n"
      ],
      "metadata": {
        "id": "KWZAFO696TZh"
      },
      "execution_count": null,
      "outputs": []
    },
    {
      "cell_type": "code",
      "source": [
        "# Step 1: Transforms raw texts to `document` annotation\n",
        "documentAssembler = DocumentAssembler() \\\n",
        "      .setInputCol('medical_abstract') \\\n",
        "      .setOutputCol('document')\n",
        "\n",
        "# Step 2: Tokenization\n",
        "tokenizer = Tokenizer() \\\n",
        "      .setInputCols(['document']) \\\n",
        "      .setOutputCol('token')\n",
        "\n",
        "# Step 3: Generate the Embeddings\n",
        "embeddings = WordEmbeddingsModel\\\n",
        "      .pretrained('glove_100d', 'en')\\\n",
        "      .setInputCols([\"token\", \"document\"])\\\n",
        "      .setOutputCol(\"embeddings\")\n",
        "\n",
        "# Define the pipeline\n",
        "pipeline = Pipeline() \\\n",
        "    .setStages([\n",
        "        documentAssembler,\n",
        "        tokenizer,\n",
        "        embeddings])\n",
        "\n",
        "\n",
        "# Fit the dataframe to the pipeline and then transform to produce the embeddings\n",
        "model = pipeline.fit(df_train)\n",
        "\n",
        "result = model.transform(df_train)"
      ],
      "metadata": {
        "colab": {
          "base_uri": "https://localhost:8080/"
        },
        "id": "DVqAcbMv6apU",
        "outputId": "a1dd484b-e6d7-4884-f47e-906c4cb2e7da"
      },
      "execution_count": null,
      "outputs": [
        {
          "output_type": "stream",
          "name": "stdout",
          "text": [
            "glove_100d download started this may take some time.\n",
            "Approximate size to download 145.3 MB\n",
            "[OK!]\n"
          ]
        }
      ]
    },
    {
      "cell_type": "code",
      "source": [
        "result"
      ],
      "metadata": {
        "colab": {
          "base_uri": "https://localhost:8080/"
        },
        "id": "SUTzmW8r61qm",
        "outputId": "b0b74eeb-761e-448b-8aa5-51c4e63e7f2a"
      },
      "execution_count": null,
      "outputs": [
        {
          "output_type": "execute_result",
          "data": {
            "text/plain": [
              "DataFrame[condition_label: int, medical_abstract: string, document: array<struct<annotatorType:string,begin:int,end:int,result:string,metadata:map<string,string>,embeddings:array<float>>>, token: array<struct<annotatorType:string,begin:int,end:int,result:string,metadata:map<string,string>,embeddings:array<float>>>, embeddings: array<struct<annotatorType:string,begin:int,end:int,result:string,metadata:map<string,string>,embeddings:array<float>>>]"
            ]
          },
          "metadata": {},
          "execution_count": 12
        }
      ]
    },
    {
      "cell_type": "code",
      "source": [
        "result.select(\"embeddings\").embeddings"
      ],
      "metadata": {
        "colab": {
          "base_uri": "https://localhost:8080/"
        },
        "id": "mTJ_1CKa7G-b",
        "outputId": "628b35f2-1dc5-4b5f-9cb1-1f5fb421c900"
      },
      "execution_count": null,
      "outputs": [
        {
          "output_type": "execute_result",
          "data": {
            "text/plain": [
              "Column<'embeddings'>"
            ]
          },
          "metadata": {},
          "execution_count": 13
        }
      ]
    },
    {
      "cell_type": "code",
      "source": [],
      "metadata": {
        "id": "2XnPVYCX831o"
      },
      "execution_count": null,
      "outputs": []
    },
    {
      "cell_type": "code",
      "source": [
        "# Import the required modules and classes\n",
        "from sparknlp.base import DocumentAssembler, Pipeline, LightPipeline, EmbeddingsFinisher\n",
        "from sparknlp.annotator import Tokenizer,WordEmbeddingsModel,SentenceEmbeddings\n",
        "import pyspark.sql.functions as F\n",
        "\n",
        "\n",
        "def my_word_embeddings(df, method):\n",
        "  document_assembler = DocumentAssembler() \\\n",
        "        .setInputCol(\"medical_abstract\") \\\n",
        "        .setOutputCol(\"document\")\n",
        "\n",
        "  tokenizer = Tokenizer() \\\n",
        "        .setInputCols([\"document\"]) \\\n",
        "        .setOutputCol(\"token\")\n",
        "  glove_embeddings = WordEmbeddingsModel().pretrained() \\\n",
        "        .setInputCols([\"document\",'token'])\\\n",
        "        .setOutputCol(\"embeddings\")\\\n",
        "        .setCaseSensitive(True)\n",
        "  sentence_embeddings = SentenceEmbeddings() \\\n",
        "        .setInputCols([\"document\", \"embeddings\"]) \\\n",
        "        .setOutputCol(\"sentence_embeddings\") \\\n",
        "        .setPoolingStrategy(method)\n",
        "\n",
        "  embeddings_finisher = EmbeddingsFinisher() \\\n",
        "        .setInputCols([\"sentence_embeddings\"]) \\\n",
        "        .setOutputCols([\"finished_sentence_embeddings\"])\n",
        "  pipeline = Pipeline(\n",
        "      stages=[document_assembler,\n",
        "              tokenizer,\n",
        "              glove_embeddings,\n",
        "              sentence_embeddings,\n",
        "              embeddings_finisher])\n",
        "\n",
        "  model = pipeline.fit(df)\n",
        "  result = model.transform(df)\n",
        "  return result"
      ],
      "metadata": {
        "id": "7rLl3Q2r837L"
      },
      "execution_count": null,
      "outputs": []
    },
    {
      "cell_type": "code",
      "source": [
        "WE_avg_train = my_word_embeddings(df_train, \"AVERAGE\")\n",
        "WE_avg_test = my_word_embeddings(df_test, \"AVERAGE\")"
      ],
      "metadata": {
        "colab": {
          "base_uri": "https://localhost:8080/"
        },
        "id": "eeTvXo4a9FgL",
        "outputId": "1cc54332-21fa-4907-b73e-27e8ac14a7d5"
      },
      "execution_count": null,
      "outputs": [
        {
          "output_type": "stream",
          "name": "stdout",
          "text": [
            "glove_100d download started this may take some time.\n",
            "Approximate size to download 145.3 MB\n",
            "[OK!]\n",
            "glove_100d download started this may take some time.\n",
            "Approximate size to download 145.3 MB\n",
            "[OK!]\n"
          ]
        }
      ]
    },
    {
      "cell_type": "code",
      "source": [
        "WE_sum_train = my_word_embeddings(df_train, \"SUM\")\n",
        "WE_sum_test = my_word_embeddings(df_test, \"SUM\")"
      ],
      "metadata": {
        "colab": {
          "base_uri": "https://localhost:8080/"
        },
        "id": "-20YQMs--zey",
        "outputId": "0569da97-04d0-41d0-97b0-bf6453078b96"
      },
      "execution_count": null,
      "outputs": [
        {
          "output_type": "stream",
          "name": "stdout",
          "text": [
            "glove_100d download started this may take some time.\n",
            "Approximate size to download 145.3 MB\n",
            "[OK!]\n",
            "glove_100d download started this may take some time.\n",
            "Approximate size to download 145.3 MB\n",
            "[OK!]\n"
          ]
        }
      ]
    },
    {
      "cell_type": "code",
      "source": [
        "from pyspark.sql.functions import col\n",
        "from pyspark.sql.types import StringType, ArrayType, DoubleType\n",
        "\n",
        "import pyspark.sql.functions as F\n",
        "import pyspark.sql.types as T\n",
        "\n",
        "# WE_avg_train = WE_avg_train.withColumn(\"condition_label\",F.array(F.col(\"condition_label\").cast(F.StringType())))\n",
        "# WE_avg_test = WE_avg_test.withColumn(\"condition_label\",F.array(F.col(\"condition_label\").cast(F.StringType())))\n",
        "\n",
        "# WE_sum_train = WE_sum_train.withColumn(\"condition_label\",F.array(F.col(\"condition_label\").cast(F.StringType())))\n",
        "# WE_sum_test = WE_sum_test.withColumn(\"condition_label\",F.array(F.col(\"condition_label\").cast(F.StringType())))"
      ],
      "metadata": {
        "id": "-3C4K6C5SCQl"
      },
      "execution_count": null,
      "outputs": []
    },
    {
      "cell_type": "code",
      "source": [
        "WE_avg_train = WE_avg_train.withColumn(\"condition_label\",F.col(\"condition_label\").cast(\"double\"))\n",
        "WE_avg_test = WE_avg_test.withColumn(\"condition_label\",F.col(\"condition_label\").cast(\"double\"))\n",
        "\n",
        "WE_sum_train = WE_sum_train.withColumn(\"condition_label\",F.col(\"condition_label\").cast(\"double\"))\n",
        "WE_sum_test = WE_sum_test.withColumn(\"condition_label\",F.col(\"condition_label\").cast(\"double\"))"
      ],
      "metadata": {
        "id": "io00-zKhCL7_"
      },
      "execution_count": null,
      "outputs": []
    },
    {
      "cell_type": "code",
      "source": [
        "WE_avg_train"
      ],
      "metadata": {
        "colab": {
          "base_uri": "https://localhost:8080/"
        },
        "id": "wGlrUFi4S-Gx",
        "outputId": "b43ed9a4-435c-49ee-b221-92d6688af929"
      },
      "execution_count": null,
      "outputs": [
        {
          "output_type": "execute_result",
          "data": {
            "text/plain": [
              "DataFrame[condition_label: double, medical_abstract: string, document: array<struct<annotatorType:string,begin:int,end:int,result:string,metadata:map<string,string>,embeddings:array<float>>>, token: array<struct<annotatorType:string,begin:int,end:int,result:string,metadata:map<string,string>,embeddings:array<float>>>, embeddings: array<struct<annotatorType:string,begin:int,end:int,result:string,metadata:map<string,string>,embeddings:array<float>>>, sentence_embeddings: array<struct<annotatorType:string,begin:int,end:int,result:string,metadata:map<string,string>,embeddings:array<float>>>, finished_sentence_embeddings: array<array<float>>]"
            ]
          },
          "metadata": {},
          "execution_count": 19
        }
      ]
    },
    {
      "cell_type": "code",
      "source": [
        "WE_sum_train.selectExpr(\"explode(finished_sentence_embeddings) as finished_sentence_embeddings\").show(truncate=False)"
      ],
      "metadata": {
        "colab": {
          "base_uri": "https://localhost:8080/"
        },
        "id": "rN55vZKb_rpb",
        "outputId": "99ffc40c-72b3-477e-d867-df247103ed97"
      },
      "execution_count": null,
      "outputs": [
        {
          "output_type": "stream",
          "name": "stdout",
          "text": [
            "+------------------------------------------------------------------------------------------------------------------------------------------------------------------------------------------------------------------------------------------------------------------------------------------------------------------------------------------------------------------------------------------------------------------------------------------------------------------------------------------------------------------------------------------------------------------------------------------------------------------------------------------------------------------------------------------------------------------------------------------------------------------------------------------------------------------------------------------------------------------------------------------------------------------------------------------------------------------------------------------------------------------------------------------------------------------------------------------------------------------------------------------------------------------------+\n",
            "|finished_sentence_embeddings                                                                                                                                                                                                                                                                                                                                                                                                                                                                                                                                                                                                                                                                                                                                                                                                                                                                                                                                                                                                                                                                                                                                            |\n",
            "+------------------------------------------------------------------------------------------------------------------------------------------------------------------------------------------------------------------------------------------------------------------------------------------------------------------------------------------------------------------------------------------------------------------------------------------------------------------------------------------------------------------------------------------------------------------------------------------------------------------------------------------------------------------------------------------------------------------------------------------------------------------------------------------------------------------------------------------------------------------------------------------------------------------------------------------------------------------------------------------------------------------------------------------------------------------------------------------------------------------------------------------------------------------------+\n",
            "|[2.2479777, 3.9939885, -0.26764876, 5.5101314, -8.247377, -8.668021, -2.7354698, 10.452114, -0.9868572, 11.729548, -9.429984, -11.64494, 25.150436, 1.525782, 33.46884, 8.624645, -3.1643026, 8.282357, 6.7787833, 3.909516, -4.176527, -16.086325, 1.2115974, 7.553241, -0.41938967, 3.145865, 13.009369, -40.31293, -17.462044, -1.1431698, 0.9249623, 17.344093, -24.685875, 0.18464172, 10.617352, 0.3309778, 3.0332005, 2.3077245, -11.698205, -9.561683, -23.54232, -15.52074, -4.4258304, -12.318092, -9.236828, -9.948504, 18.046888, -12.415512, -16.242596, -38.037632, 17.653263, 4.2173753, 8.877699, 68.6101, 4.9702816, -122.477936, -7.862709, -27.246656, 85.50468, 35.663456, -19.822466, 45.361393, 3.7414975, 13.252606, 60.6754, 12.019959, 2.981052, -3.5472445, 32.644325, -15.021771, 1.6244966, -18.446827, 9.60201, -8.853626, 11.290049, -13.4528, -0.062000167, -12.741805, -47.33397, -7.9811907, 31.192894, -0.017038181, -34.12309, 21.39189, -98.50725, 15.427047, 35.29325, 0.0888457, -27.157343, -24.689093, -12.90364, -11.097563, 0.78333044, 3.1276371, -3.4249034, -1.1087945, -15.994775, -39.3504, 36.79902, 5.2182016]         |\n",
            "|[-13.804247, 28.43994, 24.251158, -2.470498, -26.801079, 0.7262717, 12.147986, 13.287137, -1.3410939, 7.4494486, 18.668852, -23.050552, 12.891424, 14.929546, 60.536743, -3.5821264, -6.5737824, -3.9553668, 2.2888553, 16.738684, 13.801029, -21.375427, -1.5849286, 38.83823, 0.4283462, 3.6343124, 31.229057, -28.356197, -4.789683, -0.27612597, 25.226894, 48.3811, -15.479061, -11.386382, 23.255737, 7.0971203, 23.964848, 29.823364, -17.958977, 14.719964, -11.417806, -29.584568, -20.488161, -36.645042, 13.027671, -16.238806, 16.079826, -21.778927, -33.232723, -42.72238, 21.203781, -20.718454, 21.71595, 65.975, -27.181673, -156.01367, -0.3481176, -22.300669, 103.80372, 44.37135, -25.59989, 47.178135, -19.165815, 17.725647, 61.24964, 32.619213, 17.73287, -13.417153, 59.049076, -6.665509, -1.0737294, -10.615762, 5.6838503, -0.5428818, 20.332129, -25.70938, -11.243038, -11.4561825, -49.02569, -20.682573, 31.906258, -1.6442974, -56.87908, 8.428933, -98.751495, 18.35771, 28.907057, -9.100766, -5.9262633, 2.890769, -39.2032, -5.2872715, 3.5967371, 16.546244, -34.4067, 9.423315, -6.9085765, -69.7077, 42.283916, -31.367334]    |\n",
            "|[-2.3165054, 38.097923, 24.655722, 1.8476413, -25.158583, 30.646305, 19.348288, 5.058616, 7.5397773, -10.827649, -13.844013, -22.114918, 42.047966, 15.886726, 86.70788, -22.683994, -15.245555, -17.134953, -30.127565, 1.0971398, 17.949099, -29.661673, 15.888151, 59.60329, 21.053394, 20.43837, 61.693577, -61.612137, -4.068708, -3.4852521, 14.463427, 61.463184, -2.805829, -8.567649, 21.212147, 15.696203, 10.69977, 25.534634, -22.0108, 13.638777, -47.927338, 1.1142714, -15.236776, -67.93593, 7.3249145, 8.034206, 49.270756, -46.996475, -52.635002, -64.37288, 35.828064, -24.829456, -1.5179183, 102.46019, -22.124655, -229.15938, -2.4965892, -41.240025, 151.60294, 77.52434, -24.490469, 81.51177, 25.024296, 5.0578303, 87.18661, 25.574667, 38.86141, -11.92594, 75.92382, -19.618977, -29.705187, -30.15014, -15.509545, 7.949707, 42.09097, -27.92438, -38.24644, 0.7431183, -102.543976, -39.41786, 69.869446, 7.544913, -48.31541, 44.509693, -189.55635, -25.79901, 28.896889, 10.746779, -50.16812, -8.150112, -1.413729, -46.478485, 28.314981, 31.59379, -47.7149, 40.389168, -29.55372, -76.518425, 54.332188, -40.759747]             |\n",
            "|[-16.915594, 23.6804, 9.824838, 1.3656298, -11.488371, 0.39264897, 8.812194, 4.0468903, -6.810942, 7.8053093, -0.92787826, -11.033693, 13.244052, 8.179201, 44.69505, -1.7561194, -7.904261, -4.6242023, 10.38059, 2.2526228, -0.40956682, -26.845732, -5.482176, 31.843912, 7.290751, 11.619275, 19.869295, -30.016134, -1.9715047, 8.589388, 14.161802, 19.421965, -18.491573, -5.347221, 11.462641, 4.164917, 27.61143, 31.010098, -20.97308, 4.9183016, -18.794119, -22.29585, -10.685092, -33.771896, 2.5071628, -7.15637, 16.449146, -10.852713, -42.466736, -40.60142, 24.936531, -8.919396, 22.527712, 73.6945, -7.5307183, -124.61387, -11.248132, -25.5544, 83.567604, 41.023247, -14.243978, 48.46526, 3.6774104, 10.669027, 69.22923, 18.344915, 17.622414, -10.176836, 47.04381, -9.439199, -6.8085766, -12.187335, 16.398003, 2.7099054, 15.28132, -6.29354, -5.4787545, -17.412907, -46.553745, -4.8283205, 20.490084, 2.8045049, -52.805977, 8.42669, -98.74489, 3.6101544, 28.913055, -12.145513, -24.55948, -3.4822206, -14.453184, -25.113499, 4.401967, 16.023788, -21.934813, 6.5209413, -14.207977, -61.91793, 40.667225, -8.27931]               |\n",
            "|[-24.628284, 39.555187, 35.56443, 10.974035, -21.336536, 9.023038, 26.550776, 27.053421, -19.503716, -15.773477, 26.742302, -4.7135024, 25.989136, 24.809668, 66.03222, -25.962849, -17.320591, -19.23696, -24.967451, 22.438684, 39.163235, -14.78606, 3.8165975, 62.293243, 21.688427, 8.270791, 32.3689, -55.50967, 2.113839, -24.891872, 22.4284, 63.27638, -34.225765, -6.945545, 0.8868873, 10.366594, 30.517763, 45.702007, -15.982673, 30.311855, -28.471106, -50.600742, -5.8176317, -46.652298, -0.9452303, -24.038113, 31.948862, -44.84992, -36.845478, -61.789356, 30.67965, -28.845964, 17.94401, 116.01069, -36.635036, -270.30386, -7.1533155, -45.306316, 154.22716, 81.96103, -49.760193, 51.460056, -28.125435, 21.005732, 78.3978, 35.50392, 18.111877, -12.6698675, 72.22667, -7.4466634, -52.459175, -8.48993, -9.035601, 11.2169075, 51.075504, -13.305685, -18.004896, -6.7116466, -96.40059, -49.564995, 49.88071, -3.6603553, -49.5601, 4.0678406, -158.85553, 4.98378, 32.238453, -8.127524, -17.453575, 4.843365, -18.227633, 0.9457858, 3.6134942, 32.947803, -68.392235, 31.24095, 1.9061399, -72.38036, 53.88652, -51.86953]             |\n",
            "|[-5.2604456, 13.447591, 1.3911228, 0.6664312, -7.592421, 0.10820813, 3.2585528, 3.8018198, -4.5151505, 3.8752255, -4.0895042, -7.891852, 21.301765, 7.764948, 17.500362, -6.470313, -4.8882546, -3.7030087, -5.865502, -3.039416, 4.7987156, -6.4048457, -0.6145501, 9.042315, 10.886652, -1.969918, 4.9453354, -22.828428, 9.00447, -0.7382077, 2.560096, 14.043801, -8.390367, -2.5104523, 5.291072, -2.4792376, 1.1281508, 8.162703, -8.248649, 7.970103, -12.051921, -2.3025994, 9.764045, -11.776996, -3.282204, -2.2544217, 19.980288, -0.00677824, -4.851456, -18.818651, 1.0688554, -5.3265867, -4.3972836, 32.204483, 2.3962612, -87.12045, 0.45986098, -13.527579, 52.978653, 32.90762, -5.614215, 38.040886, -1.4390119, 7.752402, 30.523237, -2.266237, 9.335837, -3.6140416, 15.219398, -7.0517006, -8.633976, 3.613348, -6.3630686, -6.28803, 11.964787, -4.339533, -14.432719, 2.4515, -20.362797, -12.040421, 21.25734, 3.5751507, -11.5315485, 9.35705, -57.910397, -2.6847498, 1.3773826, -8.086824, -11.383209, 2.6444318, -6.568785, -7.310952, -5.2513905, 9.959717, -15.712727, 10.969208, -7.5287204, -17.821323, 32.721584, -5.2100663]         |\n",
            "|[-12.080042, 4.573122, 1.2987874, 0.8070922, -3.956811, 3.7977128, 6.3084893, 6.500062, 10.689306, 2.5613918, -1.9855849, -3.512156, 16.317335, 6.6669917, 13.94679, -5.5707345, -3.167059, 3.1367862, -4.2590017, -4.9965568, -8.335883, -15.907923, -1.7763287, 18.016169, -0.9018273, 8.3639965, 9.625428, -22.463099, -4.9216533, 0.16191849, 3.374715, 19.434135, -17.026237, -8.617384, 1.5948573, 8.233836, -1.9581778, 8.718647, -11.367979, -1.7279258, -11.92238, -9.050048, -8.690429, -24.421421, -6.9324646, 0.030207634, 11.298111, -11.684586, -14.211691, -20.761015, 21.939398, -1.7234583, 8.36019, 42.356045, -5.512035, -91.88256, 4.324351, -26.864496, 57.686787, 28.692558, -12.225548, 30.532719, 13.664336, 10.624617, 43.57003, -2.5103512, 11.234516, -10.168043, 21.760975, -9.966681, -12.437694, -6.625269, 2.4292018, 11.113369, 8.514529, -7.7742314, -10.052614, 2.520944, -33.89822, -10.544578, 28.155087, 5.896138, -24.024527, 18.485117, -79.13464, 5.463909, 19.793121, 2.5453122, -27.068785, -13.372389, -8.326594, -18.783201, -7.3686194, 10.456223, -5.538267, 19.317709, -1.1359496, -29.204714, 17.332676, 0.2263798]     |\n",
            "|[-18.585884, 21.260332, -0.1316396, 0.5461557, -8.640338, 20.736635, 25.302202, 29.293045, -11.806433, 2.0349143, 14.382563, 0.6736196, 20.051004, 22.123251, 37.740227, -16.625639, 5.2348447, -16.689949, 0.6788737, 9.932547, 3.2012997, -25.692728, -3.428362, 39.24581, 2.1784413, 6.7781806, 29.635498, -44.185814, -2.075224, -10.664933, 5.1399636, 40.136364, -32.74829, -12.712023, 10.307802, 17.365705, 0.066477075, 11.427231, -23.110939, 15.25112, -16.367014, -30.321842, 2.8678806, -45.87004, 1.4296951, -18.463219, 17.166224, -50.620373, -18.450205, -45.351105, 20.947426, -9.755209, 20.647015, 91.2885, -21.643137, -187.97942, -8.3733, -35.458763, 123.161, 40.564903, -20.842623, 42.600475, 7.36495, 35.7858, 50.630966, 8.3972, 11.002199, -21.836489, 40.94935, -30.572376, -30.101557, -7.508732, -4.8481946, 15.788517, 17.434494, -25.680334, -15.804596, 15.900673, -67.59522, -33.79282, 66.009575, 6.58371, -35.63817, 24.201633, -136.32617, 12.161389, 32.86615, -4.703225, -34.447487, -6.6193604, -13.721272, -14.25569, -14.586267, 24.882303, -22.151619, 25.149134, -0.40271437, -44.57649, 45.012638, -21.620087]           |\n",
            "|[-16.648226, 27.034513, 26.495296, -10.44032, -6.422993, 0.79400307, 22.402546, 36.29125, 7.704012, 10.936214, 25.035519, -13.800182, 43.599575, 10.920184, 49.68672, -16.70103, -14.161941, -0.1245555, 10.725464, -1.4543864, -6.5058794, -23.014477, 6.478564, 11.836497, 30.389843, 6.7767158, 6.895306, -26.696367, 10.613697, -6.9247894, 3.5848098, 41.323746, -17.797428, 2.5127158, -6.3783836, 10.069749, 8.56326, 48.54885, -1.9301381, 16.167826, -21.354305, -24.435133, -2.933228, -30.440899, -8.879774, -13.016684, 22.14832, -31.04628, -26.610222, -23.63933, 19.5152, 1.9134294, 11.201175, 80.37127, -6.363538, -186.51152, -6.7545667, -37.16341, 134.59499, 51.679592, -18.452457, 75.13172, 8.316495, 45.58922, 61.188957, 18.08917, 16.317547, -30.891243, 35.771275, -18.19665, -43.49508, -4.830559, 14.118308, -4.6601405, 37.795597, -32.597088, -0.79164547, 13.461012, -50.051605, -33.014008, 49.8126, 3.8075829, -64.539795, 28.42472, -133.95245, 26.276737, 60.831223, -7.5577836, -26.721962, 5.812054, -10.834255, -11.837546, 5.4610724, 11.955231, -29.660227, 47.748505, -16.058584, -52.305717, 64.38158, -32.41814]            |\n",
            "|[-18.656807, 25.004549, -0.32549036, 9.156055, -6.4241714, -0.15154606, 4.8203225, 12.979195, 2.5105808, 2.0370836, -4.893411, -22.645567, 11.212647, 13.695229, 48.246017, -6.039692, -9.996685, 8.477687, 26.402884, -5.9950404, 2.4357014, -25.939634, -17.42544, 14.9293, 3.5853572, 1.5104175, 36.647617, -7.4817157, 4.1526113, -19.978008, 18.222685, 26.947067, -34.954758, 2.4315157, 8.834777, -7.9089904, 5.853137, 25.34333, -5.843064, -1.4278667, -13.634239, -8.67484, -18.56747, -27.331495, -29.61553, -6.5216427, 28.395576, -20.074505, -24.796585, -29.334396, 27.880636, 5.750544, 23.140308, 62.95027, -2.182493, -126.85734, 10.018653, -28.384644, 82.29178, 34.938457, -19.715271, 38.916267, 8.827885, 31.707077, 40.481857, 17.491758, 18.448496, -21.5739, 34.515663, -15.8912525, -32.062283, -2.7050903, 27.520498, 7.911297, 22.961683, -27.657444, 20.800201, 4.17272, -26.497366, -23.985817, 40.319397, 8.560102, -42.588, 14.735766, -115.84516, 25.946901, 62.87885, 8.587157, -18.449308, -17.102991, -29.291605, 15.536486, -4.7773585, 12.797019, -0.7009214, 20.583475, -1.6458285, -45.85838, 29.330992, -16.208126]           |\n",
            "|[-39.097805, 30.578913, 46.650124, 16.422626, -14.324381, -24.385181, -7.8191743, 39.721104, -8.516644, 8.823482, 32.222652, -35.11582, 32.641823, 17.916435, 63.095387, -33.755177, -38.363903, -22.986547, 1.0552413, -12.031979, 22.661282, -14.732736, -0.14095283, 35.13309, 19.649328, 11.565464, 26.871626, -65.506035, 8.569106, -8.646255, 13.715749, 74.424675, -32.520977, -19.78286, 7.903532, 27.111176, 68.997665, 72.017395, -18.539122, 2.3410048, -19.035498, -87.3212, -20.550526, -78.777115, 33.54087, 7.585095, 23.044926, -31.64718, -49.351112, -81.869446, 49.95932, -14.341466, 28.091309, 168.71732, -41.51935, -329.05304, -16.62894, -55.88589, 232.88075, 72.48457, -6.1466184, 40.39983, -19.479984, 63.773964, 136.04095, 13.471277, 45.59863, -49.32144, 103.91891, -32.042973, -19.087025, -39.721165, 56.9455, 8.114233, 50.326626, -24.16659, 4.895596, 0.51125205, -75.07057, -27.515438, 58.976074, 6.507593, -112.74391, 21.076979, -169.41328, 22.246609, 49.812786, -37.130047, -10.456266, -19.658371, -42.79332, -11.371634, -42.48849, 29.885641, -65.61196, 22.574371, -9.360665, -118.70682, 110.654, -14.106588]          |\n",
            "|[-15.779972, 23.962126, 0.6923151, 7.4358897, -20.02732, 0.945453, 10.170445, 14.93231, 5.8028326, 11.390831, -1.864205, -28.069073, 41.603626, 15.281096, 44.597294, -11.767952, 3.816531, 3.6744716, -0.19440025, 8.397292, -8.280521, -21.618141, -18.355068, 18.192059, 1.2382429, 15.407029, 30.460644, -34.195812, -4.6291347, -6.9976892, -2.136256, 25.249763, -22.747639, 3.1490011, 9.141771, -0.7047369, -1.4291835, 16.10366, -14.093989, -4.360986, -18.89644, -12.3222275, -18.312313, -25.857903, -17.753284, -7.969383, 26.111847, -20.95347, -20.989798, -44.86721, 25.224611, -5.2566266, 15.462129, 70.70841, -8.471185, -149.3549, 3.1527953, -40.106533, 98.364204, 42.345787, -13.4501095, 55.674038, 12.222669, 31.669142, 56.51693, 11.362044, 2.0604303, 2.3749895, 52.559135, -10.197878, -15.555273, -1.2270494, 6.138447, 0.60742897, 23.88229, -24.71, -10.021778, -0.035432324, -46.385235, -18.702784, 50.032772, 12.883983, -42.659424, 12.669323, -121.54901, 17.079075, 43.671074, 3.2677982, -32.77508, -4.732506, -7.697218, -15.253397, 5.4214053, 25.335361, -26.502092, 17.696768, 0.9494284, -52.27043, 37.562656, -18.834187]  |\n",
            "|[-9.232192, 1.684164, -2.0479183, 4.526639, -11.432829, -1.0416849, 0.9706304, 8.711671, 7.167269, -0.6946687, 3.4651148, -1.0960661, 16.088083, 11.551804, 16.087624, -9.080298, -3.7114575, -6.285564, 5.8538427, -10.1504, -10.439553, -11.934954, -1.3244667, 11.197677, 8.829861, 5.6017833, 2.336923, -12.455193, 4.1136756, -4.123873, -4.447068, 12.226386, -10.330517, -4.2581844, -0.40958917, 3.7997835, -2.5641618, 1.940421, 1.9630224, 5.431191, -12.351495, -0.105938375, -10.368881, -15.15273, 2.6601396, -0.9142716, 10.374785, -5.4835405, -6.6743355, -13.758499, 5.92794, 5.8371344, 0.07123661, 32.273296, -1.3706732, -67.85264, 1.1508425, -16.102993, 50.127647, 22.04343, -5.5791254, 17.274996, 11.72135, 18.591288, 23.590496, 6.34193, 4.3040247, -19.28285, 15.149195, -17.497087, -18.55614, -3.0206187, 5.9168653, 11.671398, 15.444614, -5.8012896, -2.2945426, 4.0533085, -24.178411, -4.192842, 21.910511, -0.2511165, -19.654549, 15.677228, -56.50344, 10.010344, 22.268875, 5.812586, -21.796322, -4.0025043, -1.5219159, -12.042908, -0.4853462, 11.034359, 1.9124244, 8.660779, 6.698732, -19.43367, 9.719508, -12.31455]       |\n",
            "|[-27.56502, 30.962631, -0.9000044, 18.97276, -15.138249, 7.0887575, 6.3776836, 29.218077, 14.418634, 24.282894, 7.6198797, 11.896869, 33.27768, -10.396027, 58.918556, -8.640199, -5.6111007, 4.4757853, 17.774853, 17.670595, -28.646997, -38.375713, -15.400942, 44.88112, -10.179051, -9.929045, 70.651985, -41.184628, 2.0052056, -8.301562, 29.231234, 31.505768, -4.9570875, 1.0917141, 32.67093, 18.84643, -1.411607, 26.2266, -42.04418, 0.39051512, -16.318449, -22.782969, -5.420743, -51.057537, -10.269089, 3.5130415, 31.787487, -43.163403, -36.6436, -37.110863, 33.43876, -9.226441, 19.1186, 90.19678, -22.65871, -183.93076, 6.6919255, -38.308823, 133.4349, 66.04273, -33.03257, 55.47389, 17.385057, 45.28331, 72.98903, 29.553925, -9.966183, -10.50368, 65.46848, -14.455086, -18.727814, 7.1317053, 14.894033, -10.023562, 43.010883, -9.002819, -21.28428, -19.393991, -71.58703, -54.850533, 44.19569, 9.272655, -66.33185, 16.599726, -158.61472, -2.463248, 54.839764, -2.2100658, -16.38547, 4.8846855, -45.82639, -8.535418, 4.009804, 36.47052, -13.435066, 39.843018, -3.3629086, -51.25075, 38.307354, 3.047876]                       |\n",
            "|[0.9831594, 17.709126, 8.838506, 12.158812, -15.584983, 16.994762, 9.372504, 21.632818, -16.65615, -0.73955286, -9.659554, -32.412296, 0.36941633, 11.737961, 40.731087, -3.4841442, -15.90533, -17.452265, -14.5379925, 7.143962, 8.866548, -30.114433, -2.4247394, 32.68903, 2.6301322, 20.191746, 21.200798, -51.820515, -7.624971, 1.7703207, 26.782026, 36.80466, -31.852415, 2.8530595, 18.085148, 17.653154, 17.033178, 30.47517, -26.390928, 4.9363074, -25.201855, -11.220431, -11.377264, -43.40967, 12.47245, 2.2627711, 23.18815, -32.704884, -27.93984, -45.53375, 18.484653, -12.852657, 4.240244, 82.365654, -6.7007113, -151.68434, -22.161926, -30.362473, 101.26806, 28.657675, -11.829685, 43.13999, 13.149073, 7.593794, 50.42209, 22.296797, 32.62069, -17.184378, 46.910183, -20.817837, -3.3623502, -29.15749, 29.28772, 26.00839, 4.9761896, -3.7092302, -14.1899605, -16.10454, -52.24535, -32.37182, 43.109104, 6.010716, -49.85321, 29.078176, -118.51555, 17.145985, 25.831333, -3.5919762, -46.454712, -8.259379, -28.111744, -31.099611, -15.238513, 27.175009, -30.622204, 20.132559, -3.0631905, -50.901005, 40.22807, 4.141171]        |\n",
            "|[-12.07644, 17.672834, 17.016157, -13.880858, -18.067963, 1.9705266, 17.7197, 23.603203, -7.6020455, -4.0668716, 32.331753, -15.533368, 15.045461, 19.545193, 56.500916, 10.774242, 9.140374, -3.1420822, -11.828258, 15.575641, -2.5956578, -16.435484, 10.675886, 41.803288, 14.814386, 5.311811, 30.09543, -23.864847, -2.4816053, -9.270893, -3.8660736, 35.499546, -8.626177, -6.4320965, 7.099016, 6.982695, 22.752586, 25.426453, -8.381395, 16.907743, -8.179416, -32.568394, -5.972208, -37.7777, -3.051291, -27.13531, 5.288098, -27.675093, -24.233803, -36.52793, 32.543297, -7.715663, 13.30296, 70.45955, -35.251617, -154.91154, 5.7977533, -27.796894, 93.760544, 49.924004, -21.364202, 52.801327, -11.575341, 22.477541, 56.83722, 19.899954, 0.51959294, -19.274612, 44.292828, -6.469079, -38.43743, -1.6493161, 4.7776937, 9.136213, 26.196915, -22.364086, -13.650728, 8.276877, -65.51476, -26.462706, 29.8023, -12.440029, -44.493446, 9.089144, -91.156044, 8.427657, 35.799736, -1.5408251, -4.729946, -0.19063331, -26.565489, -2.820946, -9.017353, 19.189384, -26.544394, 25.697073, -3.2835188, -52.708214, 36.157936, -41.12519]         |\n",
            "|[-8.452618, 12.909609, -0.0403741, 3.576157, -9.358693, 4.9390483, 1.591296, 6.9807277, 2.1192703, 2.9545577, -2.4991648, -11.071454, 13.215483, 6.099577, 17.022663, -4.9918213, -3.733988, 2.8506906, -3.6487386, -1.4549183, -4.3752365, -13.412564, -3.8634014, 7.518405, 1.7609866, 2.9179013, 13.655958, -13.685986, -6.367226, -3.110485, 1.9163574, 11.429314, -11.748558, 0.19930902, 1.1283581, 3.6615741, 0.05372151, 10.854166, -3.4045508, -2.0380225, -13.5597515, 1.1730336, 1.4664803, -9.218733, -10.043469, 0.6194715, 8.509854, -12.9346695, -14.055531, -17.912037, 11.25896, -6.5413313, 4.4003043, 36.577896, -2.5296345, -72.89011, 2.5617986, -20.016247, 46.79486, 22.108725, -14.353888, 24.671537, 7.857588, 7.015707, 28.773687, 0.79856414, 4.015983, -3.3841653, 13.625776, -9.297454, -10.548555, -3.9954739, -3.4176655, -0.5521559, 13.927755, -5.4585905, -5.505381, 6.9577928, -24.925726, -16.859432, 23.50433, 10.609545, -17.204693, 10.302216, -63.07715, 6.539194, 12.861881, 1.594073, -17.696955, -7.0147953, -4.4697437, -7.4591565, 4.1346784, 7.3696437, -9.6007, 7.8207097, -3.6241498, -20.790426, 15.964578, -5.6431913]|\n",
            "|[-8.297302, 7.700971, 3.2147923, -6.117867, -5.5368056, 6.101832, 2.645097, 9.553802, 4.255714, -0.83987725, -0.72949874, -2.6299472, 10.48987, 8.032856, 5.8961325, -5.8757796, 3.8034031, 0.07202622, -12.163873, -1.3602489, 2.622394, -2.5037506, 4.024316, 5.255732, 4.6529956, 5.8814025, -1.7912934, -11.507257, 0.74475604, -2.3063033, 1.60107, 13.094031, -3.9476686, -1.256494, -0.2115948, 2.621472, -1.8126416, 6.4406595, 3.503765, -3.6367052, -9.010979, -4.832847, -4.9210105, -10.930043, 3.4936502, 2.2581713, 1.590309, -5.677728, -2.2124548, -17.193735, 2.427163, -3.3555286, 6.229348, 28.629078, -2.2376258, -54.144962, -7.5793757, -7.2981815, 40.808678, 17.245565, -1.4064878, 20.983538, 1.6972193, 5.1814957, 18.319677, -0.6297232, 13.785251, -1.2812172, 9.038415, -4.398403, -5.6339254, -2.0162482, 6.6635346, 0.17796099, 7.1078806, 1.4239923, -0.11204295, 2.8433695, -20.007618, -3.7583876, 15.365318, -1.1614221, -12.621188, 3.532815, -35.333035, -6.2752385, 9.709797, 1.4894682, -4.7139277, -1.8917263, 2.3333695, -6.9794455, -2.2860827, 2.230346, -9.18118, 5.2773805, -4.777725, -11.823548, 10.614319, -3.7474687]  |\n",
            "|[-24.205822, 61.833195, 42.95682, -26.626163, -13.567966, 19.42562, 18.986078, 84.0559, -37.990936, 4.9463987, 64.156944, -30.93371, 15.213186, 81.15856, 122.69866, -23.659903, -41.43034, -5.5814366, -15.415844, 2.7132103, 64.394966, -42.553158, 8.4218645, 72.66133, 59.44153, -8.125279, 23.648773, -68.35785, 22.091143, -3.6861677, 19.058586, 65.63625, -38.599495, -8.787854, 11.988303, -4.350481, 45.614086, 67.56339, -28.945234, 8.19176, -41.965096, -73.96771, -54.56634, -75.88163, 25.664944, -18.562237, 36.08786, -70.38218, -42.423107, -84.16344, 9.30954, -6.584972, 31.20673, 182.79247, -13.455771, -410.81277, 15.957839, -63.536648, 258.73895, 128.35641, -18.4893, 130.30283, -19.203518, 71.94751, 122.651726, 29.941578, 30.998947, -59.477337, 123.98199, -23.394335, -64.94316, -16.76533, 42.966652, 35.7737, 46.981033, -60.082268, 37.916218, -15.00603, -134.8011, -35.282257, 127.99724, -12.008288, -107.20425, 80.4278, -251.98596, 26.208895, 85.23963, -5.7485557, -9.263586, -50.54374, -36.58503, 6.8725686, -37.288734, 18.219278, -77.86311, 47.917965, -21.795918, -104.91468, 100.26872, -61.98112]                    |\n",
            "|[-8.199708, 17.939793, 1.525645, 4.1272717, -2.1195064, -2.2058263, 7.424917, 12.458253, -1.9658588, -5.5273685, -1.0327809, -11.875743, 20.08342, 10.463923, 28.78395, -3.133583, -0.7898987, 2.9025683, -10.056499, 7.37958, 2.6961489, -15.011021, -8.213806, 16.945032, 20.13792, 2.4087472, 15.608125, -22.978163, -9.383884, -8.489457, -1.0606596, 15.501626, -13.393843, -4.9538207, 2.9960718, 11.590169, 0.63726616, 7.12587, -13.756426, -2.5860476, -12.132819, -6.5493293, 1.4882817, -18.612953, -7.5437217, 0.4714681, 24.73108, -12.849593, -13.338698, -25.643085, 16.514784, -14.283187, 6.0157456, 50.60155, -5.0380898, -111.35878, 4.8703966, -32.76477, 69.15594, 34.92867, -18.720488, 47.238808, 6.0562506, 14.825473, 47.06182, 0.76656085, 12.9340315, 8.404962, 20.513506, -4.3501697, -5.8326626, 4.6292076, 6.3871403, -1.271506, 5.5264196, -3.7182362, -22.099266, 8.691312, -41.302944, -15.367806, 22.89805, 7.8386965, -26.64163, 12.08235, -82.1863, -4.363255, 17.953945, -0.124112755, -16.167345, -4.703834, -3.4344802, -12.918414, 2.7344322, 19.729109, -18.481636, 16.060326, -12.664656, -29.572817, 28.757147, -0.267509]   |\n",
            "+------------------------------------------------------------------------------------------------------------------------------------------------------------------------------------------------------------------------------------------------------------------------------------------------------------------------------------------------------------------------------------------------------------------------------------------------------------------------------------------------------------------------------------------------------------------------------------------------------------------------------------------------------------------------------------------------------------------------------------------------------------------------------------------------------------------------------------------------------------------------------------------------------------------------------------------------------------------------------------------------------------------------------------------------------------------------------------------------------------------------------------------------------------------------+\n",
            "only showing top 20 rows\n",
            "\n"
          ]
        }
      ]
    },
    {
      "cell_type": "markdown",
      "source": [
        "# Bert"
      ],
      "metadata": {
        "id": "YL2ml0njAquH"
      }
    },
    {
      "cell_type": "code",
      "source": [
        "from sparknlp.base import DocumentAssembler\n",
        "from sparknlp.annotator import SentenceDetector, BertSentenceEmbeddings\n",
        "from pyspark.ml import Pipeline\n",
        "import pyspark.sql.functions as F\n",
        "documentAssembler = DocumentAssembler() \\\n",
        "    .setInputCol(\"medical_abstract\") \\\n",
        "    .setOutputCol(\"document\")\n",
        "sentence = SentenceDetector() \\\n",
        "    .setInputCols([\"document\"]) \\\n",
        "    .setOutputCol(\"sentence\")\n",
        "embeddings = BertSentenceEmbeddings.pretrained(\"sent_small_bert_L2_128\") \\\n",
        "    .setInputCols([\"sentence\"]) \\\n",
        "    .setOutputCol(\"sentence_embeddings\")\\\n",
        "    .setCaseSensitive(True) \\\n",
        "    .setMaxSentenceLength(512) \\\n",
        "\n",
        "pipeline = Pipeline(stages=[documentAssembler,\n",
        "                            sentence,\n",
        "                            embeddings])"
      ],
      "metadata": {
        "colab": {
          "base_uri": "https://localhost:8080/"
        },
        "id": "6IXD7s4-ArnA",
        "outputId": "eae8d2c3-996b-4ef3-a523-a9d16a0a7446"
      },
      "execution_count": null,
      "outputs": [
        {
          "output_type": "stream",
          "name": "stdout",
          "text": [
            "sent_small_bert_L2_128 download started this may take some time.\n",
            "Approximate size to download 16.1 MB\n",
            "[OK!]\n"
          ]
        }
      ]
    },
    {
      "cell_type": "code",
      "source": [
        "model = pipeline.fit(df_train)\n",
        "BERT_train = model.transform(df_train)\n",
        "BERT_test = model.transform(df_test)"
      ],
      "metadata": {
        "id": "fENvcDtPA1Tb"
      },
      "execution_count": null,
      "outputs": []
    },
    {
      "cell_type": "code",
      "source": [
        "# BERT_train = BERT_train.withColumn(\"condition_label\",F.array(F.col(\"condition_label\").cast(F.StringType())))\n",
        "# BERT_test = BERT_test.withColumn(\"condition_label\",F.array(F.col(\"condition_label\").cast(F.StringType())))"
      ],
      "metadata": {
        "id": "G4lQqnZ_Qugf"
      },
      "execution_count": null,
      "outputs": []
    },
    {
      "cell_type": "code",
      "source": [
        "BERT_test"
      ],
      "metadata": {
        "colab": {
          "base_uri": "https://localhost:8080/"
        },
        "id": "qFNaTjDHBN11",
        "outputId": "25e8fc5c-8c17-4ec2-bff5-6825e6495dc5"
      },
      "execution_count": null,
      "outputs": [
        {
          "output_type": "execute_result",
          "data": {
            "text/plain": [
              "DataFrame[condition_label: int, medical_abstract: string, document: array<struct<annotatorType:string,begin:int,end:int,result:string,metadata:map<string,string>,embeddings:array<float>>>, sentence: array<struct<annotatorType:string,begin:int,end:int,result:string,metadata:map<string,string>,embeddings:array<float>>>, sentence_embeddings: array<struct<annotatorType:string,begin:int,end:int,result:string,metadata:map<string,string>,embeddings:array<float>>>]"
            ]
          },
          "metadata": {},
          "execution_count": 24
        }
      ]
    },
    {
      "cell_type": "code",
      "source": [
        "result_df = BERT_test.select(F.explode(F.arrays_zip\n",
        "                        (BERT_test.sentence.result,\n",
        "                         BERT_test.sentence_embeddings.embeddings)).alias(\"cols\")) \\\n",
        "                  .select(F.expr(\"cols['0']\").alias(\"sentence\"),\n",
        "                          F.expr(\"cols['1']\").alias(\"Bert_sentence_embeddings\"))\n",
        "result_df.show(truncate=150)"
      ],
      "metadata": {
        "colab": {
          "base_uri": "https://localhost:8080/"
        },
        "id": "QBo3QzM8BS2Q",
        "outputId": "05aae255-2fb9-4b2f-be95-c0c97bf22a5b"
      },
      "execution_count": null,
      "outputs": [
        {
          "output_type": "stream",
          "name": "stdout",
          "text": [
            "+------------------------------------------------------------------------------------------------------------------------------------------------------+------------------------------------------------------------------------------------------------------------------------------------------------------+\n",
            "|                                                                                                                                              sentence|                                                                                                                              Bert_sentence_embeddings|\n",
            "+------------------------------------------------------------------------------------------------------------------------------------------------------+------------------------------------------------------------------------------------------------------------------------------------------------------+\n",
            "|                                                                   Obstructive sleep apnea following topical oropharyngeal anesthesia in loud snorers.|[-1.544643, 0.061949957, -0.1274832, -1.7433655, -0.109027475, 0.43026277, -0.39502537, -0.3463539, -2.277404, -0.19288053, 1.7231216, 0.28198686, ...|\n",
            "|   Previous studies support the presence of an upper airway reflex mechanism that contributes to the maintenance of upper airway patency during sleep.|[-1.4535953, 1.5678127, -0.98798865, -1.5467952, 0.5645074, 0.06321392, -0.85448056, 0.308875, -1.336447, -0.24926646, 1.5545795, 0.54450446, -0.48...|\n",
            "|               We investigated the possibility that interference with this reflex mechanism contributes to the development of obstructive sleep apnea.|[-1.2933182, 0.83118266, -0.46298793, -1.7561036, 0.19459897, -0.27877766, -0.3712034, 0.022752628, -0.8683806, -0.38052365, 1.3211247, 1.193742, -...|\n",
            "|Eight otherwise asymptomatic snorers (seven male and one female), age 39 +/- 5.3 yr (mean +/- SEM), underwent overnight sleep studies on three succ...|[-1.1644727, -0.3799395, -0.38726193, -0.80493426, -0.03712571, 0.42127493, -0.27604514, 0.39466622, -1.7945206, 0.5402227, 0.79000324, 0.5164313, ...|\n",
            "|                        An acclimatization night was followed by two study nights randomly assigned to control (C) and oropharyngeal anesthesia (OPA).|[-1.3260522, -0.49274957, -0.4592962, -1.3755975, -0.12468033, 0.075167775, -0.44828215, -0.058546476, -1.7636054, -0.09416294, 0.36046585, 0.46292...|\n",
            "|                                               On the OPA night topical anesthesia was induced using 10% lidocaine spray and 0.25% bupivacaine gargle.|[-0.90615904, 0.2928696, -0.4049521, -1.599196, 0.3140874, 0.7241639, -0.636299, -0.046747025, -1.0873038, 0.5090341, 1.159656, 0.32097483, -0.4971...|\n",
            "|A saline placebo was used on night C. All subjects slept well on both study nights (mean sleep duration was 6.2 h on both study nights), and sleep ...|[-1.3097165, -0.47839323, -0.55592805, -0.7688951, 0.48764175, 0.2536376, -0.04842528, 0.074356414, -2.2312188, 0.2793557, 0.9925609, 0.29866636, 0...|\n",
            "|                                     Obstructive apneas and hypopneas (OAH) rose from 114 +/- 43 during C to 170 +/- 49 during OPA (p less than 0.02).|[-1.3288728, -0.20974983, -0.2124457, -1.3190655, -0.34417963, 0.41972467, 0.20802483, 0.24726805, -1.1869805, 0.93934995, 0.93453616, 0.38294667, ...|\n",
            "|                                                  Central apneas and hypopneas (CAH) were unchanged between the two nights (8 +/- 4.9 versus 7 +/- 3).|[-0.97269297, -0.69914675, -0.042765323, -1.502337, -0.04100074, 0.46728, 0.1858216, 0.31191015, -1.6040726, 0.7468758, 0.62492675, 0.5281226, -0.0...|\n",
            "|                                          The duration of OAH was similar on both study nights (20 +/- 1.9 s during C versus 20 +/- 1.5 s during OPA).|[-1.5411627, -0.42118406, -0.3511304, -1.5847213, 0.016870858, 0.4617731, -0.017570145, 0.31639403, -1.7650037, 0.6966987, 0.8203834, 0.45568675, -...|\n",
            "|                            The frequency of movement arousals terminating OAH tended to be higher during OPA (7 +/- 2.9/h) than during C (3 +/- 0.7);|[-0.9168932, -0.23794822, -0.21527211, -1.328801, 0.02945251, 0.4460343, -0.026936922, 0.31994075, -1.4193733, 0.5856123, 0.88350415, 0.6900769, -0...|\n",
            "|                                                                                                                                               P = NS.|[-1.5722165, 0.4267213, -0.34254542, -2.6453588, -0.32409248, 0.9913931, -0.6117358, 0.056868937, -1.7349652, 0.262178, 1.1642032, -0.21290985, -1....|\n",
            "|                    The frequency of oxyhemoglobin desaturations was also higher during OPA (5 +/- 2.1/h) than during C (3 +/- 1.4), p less than 0.07.|[-0.81843656, -0.29551744, -0.28048643, -0.6408745, -0.22308934, 0.425877, -0.09067915, 0.06464728, -1.4318473, 0.56760424, 0.74986005, 0.56484073,...|\n",
            "|                                                                     Neutrophil function and pyogenic infections in bone marrow transplant recipients.|[-0.7695869, 0.33700943, -0.82507247, -1.9977368, 0.21642467, 1.0809337, -0.7867864, -0.5182106, -0.54249966, 0.51857585, 1.9221754, 1.2182915, -0....|\n",
            "|In a consecutive entry trial, the incidence and time course of decreased neutrophil function was assessed in 20 patients treated with allogeneic bo...|[-1.4183486, 0.4472213, -0.87580717, -1.3128903, 0.03179859, 0.63176924, -0.120194584, -0.93659717, -1.0824417, 0.88746005, 1.0367239, 0.8630696, -...|\n",
            "|                                      The aim of the study was to assess the prognostic value of low neutrophil function for late pyogenic infections.|[-1.1713519, 0.69638395, -0.6933118, -1.5826383, 0.22374889, 0.28727022, -0.5035604, -0.6777118, -1.2202467, 0.19541849, 1.1773076, 0.9074982, -0.4...|\n",
            "|                     Chemotaxis, superoxide production, and phagocytic-bactericidal activity were studied before and 2, 6, 9, and 12 months after BMT.|[-0.8446546, -0.5860869, -0.77116525, -1.879159, -0.32601634, 0.35877985, -0.110561594, -0.6522481, -1.680087, 0.16310915, 1.3631171, 0.8430703, 0....|\n",
            "|                                                                                 Skin window migration was quantitatively assessed 2 months after BMT.|[-1.4184506, 0.6693887, -0.46907443, -2.5995011, 0.20141436, 0.6376703, -0.12317779, -0.74854475, -1.1016227, 1.5359356, 0.10976813, 0.27667704, -0...|\n",
            "|                                                              Infectious complications were recorded prospectively with preset criteria during 1 year.|[-1.5280312, 0.38980502, -0.38876638, -2.284811, 0.50817984, 0.6754596, 0.4713629, -0.7681839, -1.7351544, 0.40833005, 0.48164055, 0.0871663, -1.39...|\n",
            "|                                                                         Six of the 20 leukemic patients had defective neutrophil function before BMT.|[-1.2798653, -0.3304007, -0.641239, -2.1442177, 0.07332007, 0.2572247, -0.4300964, -0.55431974, -1.0167354, 0.5064808, 0.9707965, 0.136518, 0.04720...|\n",
            "+------------------------------------------------------------------------------------------------------------------------------------------------------+------------------------------------------------------------------------------------------------------------------------------------------------------+\n",
            "only showing top 20 rows\n",
            "\n"
          ]
        }
      ]
    },
    {
      "cell_type": "markdown",
      "source": [
        "# Models\n"
      ],
      "metadata": {
        "id": "hPj1HG8dMVGV"
      }
    },
    {
      "cell_type": "markdown",
      "source": [
        "## Neural Network"
      ],
      "metadata": {
        "id": "3E4zm7hYzhXc"
      }
    },
    {
      "cell_type": "code",
      "source": [
        "from sklearn.metrics import classification_report\n",
        "\n",
        "def evaluate(model, dataset,name, ev_name):\n",
        "  dataset = model.transform(dataset)\n",
        "  dataset = dataset.select('condition_label',\"class.result\").toPandas()\n",
        "  dataset['result'] = dataset['result'].apply(lambda x : x[0])\n",
        "  dataset['condition_label'] = dataset['condition_label'].astype(str)\n",
        "  print(name)\n",
        "  print(ev_name)\n",
        "  print(classification_report(dataset['condition_label'], dataset['result']))\n"
      ],
      "metadata": {
        "id": "muhhtwKN1bs5"
      },
      "execution_count": null,
      "outputs": []
    },
    {
      "cell_type": "code",
      "source": [],
      "metadata": {
        "id": "mLN4Q8ffOh5U"
      },
      "execution_count": null,
      "outputs": []
    },
    {
      "cell_type": "code",
      "source": [
        "from sparknlp.annotator import ClassifierDLApproach\n",
        "\n",
        "\n",
        "classsifierdl = ClassifierDLApproach()\\\n",
        "                  .setInputCols([\"sentence_embeddings\"])\\\n",
        "                  .setOutputCol(\"class\")\\\n",
        "                  .setLabelColumn(\"condition_label\")\\\n",
        "                  .setBatchSize(64)\\\n",
        "                  .setMaxEpochs(20)\\\n",
        "                  .setLr(0.005)\\\n",
        "                  .setDropout(0.5)\n",
        "\n",
        "                  # .setLr(0.01) \\\n",
        "                  # .setBatchSize(64)\\\n",
        "                  # .setMaxEpochs(50)\\\n",
        "\n",
        "\n",
        "\n"
      ],
      "metadata": {
        "id": "Yf3KjJFyMWpT"
      },
      "execution_count": null,
      "outputs": []
    },
    {
      "cell_type": "code",
      "source": [
        "NN_WE_avg_model = classsifierdl.fit(WE_avg_train)"
      ],
      "metadata": {
        "id": "BOZ7yIK-bROU"
      },
      "execution_count": null,
      "outputs": []
    },
    {
      "cell_type": "code",
      "source": [
        "evaluate(NN_WE_avg_model, WE_avg_train,\"Neural Nework Word Embeddings(AVG)\", \"Training Set\")"
      ],
      "metadata": {
        "colab": {
          "base_uri": "https://localhost:8080/"
        },
        "id": "QcKIvQucBPYe",
        "outputId": "250df6ae-d175-47a3-f473-704cde80a6a9"
      },
      "execution_count": null,
      "outputs": [
        {
          "output_type": "stream",
          "name": "stdout",
          "text": [
            "Neural Nework Word Embeddings(AVG)\n",
            "Training Set\n"
          ]
        },
        {
          "output_type": "stream",
          "name": "stderr",
          "text": [
            "/usr/local/lib/python3.10/dist-packages/sklearn/metrics/_classification.py:1344: UndefinedMetricWarning: Precision and F-score are ill-defined and being set to 0.0 in labels with no predicted samples. Use `zero_division` parameter to control this behavior.\n",
            "  _warn_prf(average, modifier, msg_start, len(result))\n"
          ]
        },
        {
          "output_type": "stream",
          "name": "stdout",
          "text": [
            "              precision    recall  f1-score   support\n",
            "\n",
            "         1.0       0.67      0.76      0.71      2530\n",
            "         2.0       0.00      0.00      0.00      1195\n",
            "         3.0       0.00      0.00      0.00      1540\n",
            "         4.0       0.59      0.81      0.68      2441\n",
            "         5.0       0.46      0.63      0.53      3844\n",
            "\n",
            "    accuracy                           0.55     11550\n",
            "   macro avg       0.34      0.44      0.38     11550\n",
            "weighted avg       0.42      0.55      0.48     11550\n",
            "\n"
          ]
        },
        {
          "output_type": "stream",
          "name": "stderr",
          "text": [
            "/usr/local/lib/python3.10/dist-packages/sklearn/metrics/_classification.py:1344: UndefinedMetricWarning: Precision and F-score are ill-defined and being set to 0.0 in labels with no predicted samples. Use `zero_division` parameter to control this behavior.\n",
            "  _warn_prf(average, modifier, msg_start, len(result))\n",
            "/usr/local/lib/python3.10/dist-packages/sklearn/metrics/_classification.py:1344: UndefinedMetricWarning: Precision and F-score are ill-defined and being set to 0.0 in labels with no predicted samples. Use `zero_division` parameter to control this behavior.\n",
            "  _warn_prf(average, modifier, msg_start, len(result))\n"
          ]
        }
      ]
    },
    {
      "cell_type": "code",
      "source": [
        "evaluate(NN_WE_avg_model, WE_avg_test,\"Neural Nework Word Embeddings(AVG)\", \"Test Set\")"
      ],
      "metadata": {
        "colab": {
          "base_uri": "https://localhost:8080/"
        },
        "id": "n6WQ5Xt_e2Lv",
        "outputId": "4c67e4cb-10bf-4d1a-f661-c6a46f2c1d8e"
      },
      "execution_count": null,
      "outputs": [
        {
          "output_type": "stream",
          "name": "stdout",
          "text": [
            "Neural Nework Word Embeddings(AVG)\n",
            "Test Set\n",
            "              precision    recall  f1-score   support\n",
            "\n",
            "         1.0       0.77      0.16      0.27       633\n",
            "         2.0       0.00      0.00      0.00       299\n",
            "         3.0       0.00      0.00      0.00       385\n",
            "         4.0       0.43      0.88      0.58       610\n",
            "         5.0       0.36      0.57      0.44       961\n",
            "\n",
            "    accuracy                           0.41      2888\n",
            "   macro avg       0.31      0.32      0.26      2888\n",
            "weighted avg       0.38      0.41      0.33      2888\n",
            "\n"
          ]
        },
        {
          "output_type": "stream",
          "name": "stderr",
          "text": [
            "/usr/local/lib/python3.10/dist-packages/sklearn/metrics/_classification.py:1344: UndefinedMetricWarning: Precision and F-score are ill-defined and being set to 0.0 in labels with no predicted samples. Use `zero_division` parameter to control this behavior.\n",
            "  _warn_prf(average, modifier, msg_start, len(result))\n",
            "/usr/local/lib/python3.10/dist-packages/sklearn/metrics/_classification.py:1344: UndefinedMetricWarning: Precision and F-score are ill-defined and being set to 0.0 in labels with no predicted samples. Use `zero_division` parameter to control this behavior.\n",
            "  _warn_prf(average, modifier, msg_start, len(result))\n",
            "/usr/local/lib/python3.10/dist-packages/sklearn/metrics/_classification.py:1344: UndefinedMetricWarning: Precision and F-score are ill-defined and being set to 0.0 in labels with no predicted samples. Use `zero_division` parameter to control this behavior.\n",
            "  _warn_prf(average, modifier, msg_start, len(result))\n"
          ]
        }
      ]
    },
    {
      "cell_type": "code",
      "source": [
        "NN_WE_sum_model = classsifierdl.fit(WE_sum_train)"
      ],
      "metadata": {
        "id": "KIg4MQqXexyw"
      },
      "execution_count": null,
      "outputs": []
    },
    {
      "cell_type": "code",
      "source": [
        "evaluate(NN_WE_sum_model, WE_sum_train,\"Neural Nework Word Embeddings(SUM)\", \"Training Set\")"
      ],
      "metadata": {
        "colab": {
          "base_uri": "https://localhost:8080/"
        },
        "id": "oETioJsr-M-0",
        "outputId": "62770009-6a24-416e-c533-4273014f8e3c"
      },
      "execution_count": null,
      "outputs": [
        {
          "output_type": "stream",
          "name": "stdout",
          "text": [
            "Neural Nework Word Embeddings(SUM)\n",
            "Training Set\n"
          ]
        },
        {
          "output_type": "stream",
          "name": "stderr",
          "text": [
            "/usr/local/lib/python3.10/dist-packages/sklearn/metrics/_classification.py:1344: UndefinedMetricWarning: Precision and F-score are ill-defined and being set to 0.0 in labels with no predicted samples. Use `zero_division` parameter to control this behavior.\n",
            "  _warn_prf(average, modifier, msg_start, len(result))\n"
          ]
        },
        {
          "output_type": "stream",
          "name": "stdout",
          "text": [
            "              precision    recall  f1-score   support\n",
            "\n",
            "         1.0       0.00      0.00      0.00      2530\n",
            "         2.0       0.00      0.00      0.00      1195\n",
            "         3.0       0.00      0.00      0.00      1540\n",
            "         4.0       0.00      0.00      0.00      2441\n",
            "         5.0       0.33      1.00      0.50      3844\n",
            "\n",
            "    accuracy                           0.33     11550\n",
            "   macro avg       0.07      0.20      0.10     11550\n",
            "weighted avg       0.11      0.33      0.17     11550\n",
            "\n"
          ]
        },
        {
          "output_type": "stream",
          "name": "stderr",
          "text": [
            "/usr/local/lib/python3.10/dist-packages/sklearn/metrics/_classification.py:1344: UndefinedMetricWarning: Precision and F-score are ill-defined and being set to 0.0 in labels with no predicted samples. Use `zero_division` parameter to control this behavior.\n",
            "  _warn_prf(average, modifier, msg_start, len(result))\n",
            "/usr/local/lib/python3.10/dist-packages/sklearn/metrics/_classification.py:1344: UndefinedMetricWarning: Precision and F-score are ill-defined and being set to 0.0 in labels with no predicted samples. Use `zero_division` parameter to control this behavior.\n",
            "  _warn_prf(average, modifier, msg_start, len(result))\n"
          ]
        }
      ]
    },
    {
      "cell_type": "code",
      "source": [
        "evaluate(NN_WE_sum_model, WE_sum_test,\"Neural Nework Word Embeddings(SUM)\", \"Test Set\")"
      ],
      "metadata": {
        "colab": {
          "base_uri": "https://localhost:8080/"
        },
        "id": "Q7c-h1eDHUHM",
        "outputId": "6accc736-4d01-41c5-cdaf-902d2aaafee5"
      },
      "execution_count": null,
      "outputs": [
        {
          "output_type": "stream",
          "name": "stdout",
          "text": [
            "Neural Nework Word Embeddings(SUM)\n",
            "Test Set\n",
            "              precision    recall  f1-score   support\n",
            "\n",
            "         1.0       0.00      0.00      0.00       633\n",
            "         2.0       0.00      0.00      0.00       299\n",
            "         3.0       0.00      0.00      0.00       385\n",
            "         4.0       0.00      0.00      0.00       610\n",
            "         5.0       0.33      1.00      0.50       961\n",
            "\n",
            "    accuracy                           0.33      2888\n",
            "   macro avg       0.07      0.20      0.10      2888\n",
            "weighted avg       0.11      0.33      0.17      2888\n",
            "\n"
          ]
        },
        {
          "output_type": "stream",
          "name": "stderr",
          "text": [
            "/usr/local/lib/python3.10/dist-packages/sklearn/metrics/_classification.py:1344: UndefinedMetricWarning: Precision and F-score are ill-defined and being set to 0.0 in labels with no predicted samples. Use `zero_division` parameter to control this behavior.\n",
            "  _warn_prf(average, modifier, msg_start, len(result))\n",
            "/usr/local/lib/python3.10/dist-packages/sklearn/metrics/_classification.py:1344: UndefinedMetricWarning: Precision and F-score are ill-defined and being set to 0.0 in labels with no predicted samples. Use `zero_division` parameter to control this behavior.\n",
            "  _warn_prf(average, modifier, msg_start, len(result))\n",
            "/usr/local/lib/python3.10/dist-packages/sklearn/metrics/_classification.py:1344: UndefinedMetricWarning: Precision and F-score are ill-defined and being set to 0.0 in labels with no predicted samples. Use `zero_division` parameter to control this behavior.\n",
            "  _warn_prf(average, modifier, msg_start, len(result))\n"
          ]
        }
      ]
    },
    {
      "cell_type": "code",
      "source": [
        "NN_BERT_model = classsifierdl.fit(BERT_train)"
      ],
      "metadata": {
        "id": "Uop_fkuXmgH0"
      },
      "execution_count": null,
      "outputs": []
    },
    {
      "cell_type": "code",
      "source": [
        "evaluate(NN_BERT_model, BERT_train,\"Neural Nework BERT\", \"Training Set\")"
      ],
      "metadata": {
        "id": "vLvgCmqrLgkc",
        "colab": {
          "base_uri": "https://localhost:8080/"
        },
        "outputId": "7d3fe4ec-777f-449c-87e0-c5bcc9a03fb8"
      },
      "execution_count": null,
      "outputs": [
        {
          "output_type": "stream",
          "name": "stdout",
          "text": [
            "Neural Nework BERT\n",
            "Training Set\n"
          ]
        },
        {
          "output_type": "stream",
          "name": "stderr",
          "text": [
            "/usr/local/lib/python3.10/dist-packages/sklearn/metrics/_classification.py:1344: UndefinedMetricWarning: Precision and F-score are ill-defined and being set to 0.0 in labels with no predicted samples. Use `zero_division` parameter to control this behavior.\n",
            "  _warn_prf(average, modifier, msg_start, len(result))\n",
            "/usr/local/lib/python3.10/dist-packages/sklearn/metrics/_classification.py:1344: UndefinedMetricWarning: Precision and F-score are ill-defined and being set to 0.0 in labels with no predicted samples. Use `zero_division` parameter to control this behavior.\n",
            "  _warn_prf(average, modifier, msg_start, len(result))\n"
          ]
        },
        {
          "output_type": "stream",
          "name": "stdout",
          "text": [
            "              precision    recall  f1-score   support\n",
            "\n",
            "           1       0.63      0.72      0.67      2530\n",
            "           2       0.00      0.00      0.00      1195\n",
            "           3       0.00      0.00      0.00      1540\n",
            "           4       0.66      0.62      0.64      2441\n",
            "           5       0.46      0.76      0.57      3844\n",
            "\n",
            "    accuracy                           0.54     11550\n",
            "   macro avg       0.35      0.42      0.38     11550\n",
            "weighted avg       0.43      0.54      0.47     11550\n",
            "\n"
          ]
        },
        {
          "output_type": "stream",
          "name": "stderr",
          "text": [
            "/usr/local/lib/python3.10/dist-packages/sklearn/metrics/_classification.py:1344: UndefinedMetricWarning: Precision and F-score are ill-defined and being set to 0.0 in labels with no predicted samples. Use `zero_division` parameter to control this behavior.\n",
            "  _warn_prf(average, modifier, msg_start, len(result))\n"
          ]
        }
      ]
    },
    {
      "cell_type": "code",
      "source": [
        "evaluate(NN_BERT_model, BERT_test,\"Neural Nework BERT\", \"Test Set\")"
      ],
      "metadata": {
        "id": "L-7qMFfcLkaK",
        "colab": {
          "base_uri": "https://localhost:8080/"
        },
        "outputId": "a671a22a-bf28-484b-f0ba-bf2a5d754dec"
      },
      "execution_count": null,
      "outputs": [
        {
          "output_type": "stream",
          "name": "stdout",
          "text": [
            "Neural Nework BERT\n",
            "Test Set\n",
            "              precision    recall  f1-score   support\n",
            "\n",
            "           1       0.53      0.71      0.61       633\n",
            "           2       0.00      0.00      0.00       299\n",
            "           3       0.00      0.00      0.00       385\n",
            "           4       0.51      0.56      0.53       610\n",
            "           5       0.39      0.55      0.45       961\n",
            "\n",
            "    accuracy                           0.46      2888\n",
            "   macro avg       0.29      0.36      0.32      2888\n",
            "weighted avg       0.35      0.46      0.40      2888\n",
            "\n"
          ]
        },
        {
          "output_type": "stream",
          "name": "stderr",
          "text": [
            "/usr/local/lib/python3.10/dist-packages/sklearn/metrics/_classification.py:1344: UndefinedMetricWarning: Precision and F-score are ill-defined and being set to 0.0 in labels with no predicted samples. Use `zero_division` parameter to control this behavior.\n",
            "  _warn_prf(average, modifier, msg_start, len(result))\n",
            "/usr/local/lib/python3.10/dist-packages/sklearn/metrics/_classification.py:1344: UndefinedMetricWarning: Precision and F-score are ill-defined and being set to 0.0 in labels with no predicted samples. Use `zero_division` parameter to control this behavior.\n",
            "  _warn_prf(average, modifier, msg_start, len(result))\n",
            "/usr/local/lib/python3.10/dist-packages/sklearn/metrics/_classification.py:1344: UndefinedMetricWarning: Precision and F-score are ill-defined and being set to 0.0 in labels with no predicted samples. Use `zero_division` parameter to control this behavior.\n",
            "  _warn_prf(average, modifier, msg_start, len(result))\n"
          ]
        }
      ]
    },
    {
      "cell_type": "markdown",
      "source": [
        "## SVM"
      ],
      "metadata": {
        "id": "_pia5HsEwgVQ"
      }
    },
    {
      "cell_type": "code",
      "source": [
        "from pyspark.ml.classification import LinearSVC, OneVsRest\n",
        "from pyspark.ml.evaluation import MulticlassClassificationEvaluator\n",
        "from pyspark.ml.linalg import Vectors, VectorUDT\n",
        "from pyspark.sql import functions as F\n",
        "from pyspark.sql.types import ArrayType\n",
        "\n",
        "# Create a LinearSVC classifier\n",
        "svm = LinearSVC(\n",
        "    maxIter=50,\n",
        "    regParam=0.1,\n",
        "    labelCol=\"label\",\n",
        "    featuresCol=\"features\"\n",
        ")\n",
        "\n",
        "\n"
      ],
      "metadata": {
        "id": "xf-Y3VEJ_DCz"
      },
      "execution_count": null,
      "outputs": []
    },
    {
      "cell_type": "code",
      "source": [
        "from pyspark.ml.feature import StringIndexer\n",
        "stringIndexer = StringIndexer(inputCol=\"condition_label\", outputCol=\"label\")"
      ],
      "metadata": {
        "id": "B09IHUXFQXBm"
      },
      "execution_count": null,
      "outputs": []
    },
    {
      "cell_type": "code",
      "source": [],
      "metadata": {
        "id": "TAUUSQwrWFYN"
      },
      "execution_count": null,
      "outputs": []
    },
    {
      "cell_type": "code",
      "source": [
        "def df_prepare(df):\n",
        "  # Flatten the nested array\n",
        "  df_flattened = df.withColumn(\n",
        "      \"flattened_sentence_embeddings\",\n",
        "      F.flatten(F.col(\"finished_sentence_embeddings\"))\n",
        "  )\n",
        "\n",
        "  df_flattened = stringIndexer.fit(df_flattened).transform(df_flattened)\n",
        "\n",
        "  # Convert the flattened array into a vector\n",
        "  to_vector_udf = F.udf(lambda a: Vectors.dense(a), VectorUDT())\n",
        "  df_flattened = df_flattened.withColumn(\n",
        "      \"features\",\n",
        "      to_vector_udf(F.col(\"flattened_sentence_embeddings\"))\n",
        "  )\n",
        "  return df_flattened\n",
        "\n",
        "\n",
        "\n",
        "# Create a One-vs-Rest classifier\n",
        "ovr = OneVsRest(\n",
        "    classifier=svm,\n",
        ")\n",
        "\n",
        "# # Fit the One-vs-Rest classifier on the flattened DataFrame\n",
        "# model = ovr.fit(df_prepare(we_avg_train))\n",
        "\n",
        "# # Make predictions on the dataset\n",
        "# predictions = model.transform(we_avg_train_flattened)\n",
        "\n",
        "# # Evaluate the model using a multi-class classification evaluator\n",
        "# evaluator = MulticlassClassificationEvaluator(\n",
        "#     labelCol=\"condition_label\",\n",
        "#     metricName=\"accuracy\"\n",
        "# )\n",
        "# accuracy = evaluator.evaluate(predictions)\n",
        "\n",
        "# # Print the accuracy\n",
        "# print(\"Accuracy:\", accuracy)"
      ],
      "metadata": {
        "id": "uXoEUCknQIu1"
      },
      "execution_count": null,
      "outputs": []
    },
    {
      "cell_type": "code",
      "source": [
        "def svm_evaluate(model, dataset,name, ev_name):\n",
        "  dataset = model.transform(df_prepare(dataset))\n",
        "  dataset = dataset.select('label',\"Prediction\").toPandas()\n",
        "  # dataset['label'] = dataset['label'].astype(str)\n",
        "  # dataset['Prediction'] = dataset['Prediction'].astype(str)\n",
        "  print(name)\n",
        "  print(ev_name)\n",
        "  print(classification_report(dataset['label'], dataset['Prediction']))"
      ],
      "metadata": {
        "id": "JwYi3Mcs530X"
      },
      "execution_count": null,
      "outputs": []
    },
    {
      "cell_type": "code",
      "source": [
        "SVM_WE_avg_model = ovr.fit(df_prepare(WE_avg_train))"
      ],
      "metadata": {
        "id": "6tsulwLrcsVR"
      },
      "execution_count": null,
      "outputs": []
    },
    {
      "cell_type": "code",
      "source": [
        "svm_evaluate(SVM_WE_avg_model, WE_avg_train,\"SVM Word Embeddings(AVG)\", \"Training Set\")"
      ],
      "metadata": {
        "colab": {
          "base_uri": "https://localhost:8080/"
        },
        "id": "JIF3o1OQJYx-",
        "outputId": "ce838ab4-7ca4-41f0-9aa5-56587446c4f1"
      },
      "execution_count": null,
      "outputs": [
        {
          "output_type": "stream",
          "name": "stdout",
          "text": [
            "SVM Word Embeddings(AVG)\n",
            "Training Set\n",
            "              precision    recall  f1-score   support\n",
            "\n",
            "         0.0       0.55      0.25      0.35      3844\n",
            "         1.0       0.54      0.88      0.67      2530\n",
            "         2.0       0.51      0.86      0.64      2441\n",
            "         3.0       0.52      0.32      0.39      1540\n",
            "         4.0       0.50      0.26      0.34      1195\n",
            "\n",
            "    accuracy                           0.53     11550\n",
            "   macro avg       0.52      0.51      0.48     11550\n",
            "weighted avg       0.53      0.53      0.49     11550\n",
            "\n"
          ]
        }
      ]
    },
    {
      "cell_type": "code",
      "source": [
        "svm_evaluate(SVM_WE_avg_model, WE_avg_test,\"SVM Word Embeddings(AVG)\", \"Test Set\")"
      ],
      "metadata": {
        "colab": {
          "base_uri": "https://localhost:8080/"
        },
        "id": "rfgh1zSmBy4X",
        "outputId": "a98b5edc-51e2-4001-cfc0-b7d223af26a9"
      },
      "execution_count": null,
      "outputs": [
        {
          "output_type": "stream",
          "name": "stdout",
          "text": [
            "SVM Word Embeddings(AVG)\n",
            "Test Set\n",
            "              precision    recall  f1-score   support\n",
            "\n",
            "         0.0       0.50      0.11      0.17       961\n",
            "         1.0       0.71      0.60      0.65       633\n",
            "         2.0       0.35      0.95      0.52       610\n",
            "         3.0       0.55      0.14      0.22       385\n",
            "         4.0       0.25      0.34      0.29       299\n",
            "\n",
            "    accuracy                           0.42      2888\n",
            "   macro avg       0.47      0.43      0.37      2888\n",
            "weighted avg       0.49      0.42      0.37      2888\n",
            "\n"
          ]
        }
      ]
    },
    {
      "cell_type": "code",
      "source": [
        "SVM_WE_sum_model = ovr.fit(df_prepare(WE_sum_train))"
      ],
      "metadata": {
        "id": "HOZz-AtRNNZ7"
      },
      "execution_count": null,
      "outputs": []
    },
    {
      "cell_type": "code",
      "source": [
        "svm_evaluate(SVM_WE_sum_model, WE_sum_train,\"SVM Word Embeddings(SUM)\", \"Training Set\")\n"
      ],
      "metadata": {
        "colab": {
          "base_uri": "https://localhost:8080/"
        },
        "id": "nXpNrklOAbLc",
        "outputId": "59b41636-dfa5-4ae5-83c0-3722a1702caa"
      },
      "execution_count": null,
      "outputs": [
        {
          "output_type": "stream",
          "name": "stdout",
          "text": [
            "SVM Word Embeddings(SUM)\n",
            "Training Set\n",
            "              precision    recall  f1-score   support\n",
            "\n",
            "         0.0       0.54      0.27      0.36      3844\n",
            "         1.0       0.53      0.88      0.67      2530\n",
            "         2.0       0.52      0.85      0.65      2441\n",
            "         3.0       0.51      0.34      0.41      1540\n",
            "         4.0       0.50      0.19      0.28      1195\n",
            "\n",
            "    accuracy                           0.53     11550\n",
            "   macro avg       0.52      0.51      0.47     11550\n",
            "weighted avg       0.53      0.53      0.49     11550\n",
            "\n"
          ]
        }
      ]
    },
    {
      "cell_type": "code",
      "source": [
        "svm_evaluate(SVM_WE_sum_model, WE_sum_test,\"SVM Word Embeddings(SUM)\", \"Test Set\")\n"
      ],
      "metadata": {
        "colab": {
          "base_uri": "https://localhost:8080/"
        },
        "id": "f2TuA3Q3ozwX",
        "outputId": "f294b9e1-a239-4ac8-b002-b06496e275ac"
      },
      "execution_count": null,
      "outputs": [
        {
          "output_type": "stream",
          "name": "stdout",
          "text": [
            "SVM Word Embeddings(SUM)\n",
            "Test Set\n",
            "              precision    recall  f1-score   support\n",
            "\n",
            "         0.0       0.44      0.23      0.31       961\n",
            "         1.0       0.71      0.50      0.59       633\n",
            "         2.0       0.34      0.94      0.50       610\n",
            "         3.0       0.67      0.11      0.19       385\n",
            "         4.0       0.37      0.19      0.25       299\n",
            "\n",
            "    accuracy                           0.42      2888\n",
            "   macro avg       0.51      0.40      0.37      2888\n",
            "weighted avg       0.50      0.42      0.39      2888\n",
            "\n"
          ]
        }
      ]
    },
    {
      "cell_type": "code",
      "source": [
        "BERT_train_SVM = BERT_train.withColumn(\n",
        "      \"flattened_sentence_embeddings\",\n",
        "      F.flatten(F.col(\"sentence_embeddings.embeddings\"))\n",
        "  )\n",
        "\n",
        "BERT_train_SVM = BERT_train_SVM.select(\n",
        "    \"condition_label\",\n",
        "    \"medical_abstract\",\n",
        "    \"document\",\n",
        "    \"sentence\",\n",
        "    \"sentence_embeddings\",\n",
        "    \"flattened_sentence_embeddings\",\n",
        "    slice(\"flattened_sentence_embeddings\", 1, 100).alias(\"features\")\n",
        ")\n",
        "\n",
        "BERT_train_SVM = stringIndexer.fit(BERT_train_SVM).transform(BERT_train_SVM)\n",
        "\n",
        "  # Convert the flattened array into a vector\n",
        "to_vector_udf = F.udf(lambda a: Vectors.dense(a), VectorUDT())\n",
        "BERT_train_SVM = BERT_train_SVM.withColumn(\n",
        "      \"features\",\n",
        "      to_vector_udf(F.col(\"features\"))\n",
        ")"
      ],
      "metadata": {
        "id": "5rLDd3j_t0hO"
      },
      "execution_count": null,
      "outputs": []
    },
    {
      "cell_type": "code",
      "source": [
        "# BERT_train_SVM = BERT_train_SVM.withColumn(\"label\",\n",
        "#       F.col(\"condition_label\"))\n"
      ],
      "metadata": {
        "id": "Phg9JIHjg97_"
      },
      "execution_count": null,
      "outputs": []
    },
    {
      "cell_type": "code",
      "source": [
        "SVM_BERT_model = ovr.fit(BERT_train_SVM)"
      ],
      "metadata": {
        "id": "WJTIGS--PLHr"
      },
      "execution_count": null,
      "outputs": []
    },
    {
      "cell_type": "code",
      "source": [
        "from sklearn.metrics import classification_report\n",
        "def svm_evaluate(model, dataset,name, ev_name):\n",
        "  dataset = model.transform(dataset)\n",
        "  dataset = dataset.select('label',\"Prediction\").toPandas()\n",
        "  # dataset['label'] = dataset['label'].astype(str)\n",
        "  # dataset['Prediction'] = dataset['Prediction'].astype(str)\n",
        "  print(name)\n",
        "  print(ev_name)\n",
        "  print(classification_report(dataset['label'], dataset['Prediction']))"
      ],
      "metadata": {
        "id": "-8_gyPWj1H8c"
      },
      "execution_count": null,
      "outputs": []
    },
    {
      "cell_type": "code",
      "source": [
        "svm_evaluate(SVM_BERT_model, BERT_train_SVM,\"SVM BERT\", \"Training Set\")"
      ],
      "metadata": {
        "colab": {
          "base_uri": "https://localhost:8080/"
        },
        "id": "4SVN80chmovX",
        "outputId": "5b894470-259e-4006-db73-b09759635d65"
      },
      "execution_count": null,
      "outputs": [
        {
          "output_type": "stream",
          "name": "stdout",
          "text": [
            "SVM BERT\n",
            "Training Set\n",
            "              precision    recall  f1-score   support\n",
            "\n",
            "         0.0       0.45      0.32      0.37      3844\n",
            "         1.0       0.44      0.75      0.55      2530\n",
            "         2.0       0.46      0.61      0.52      2441\n",
            "         3.0       0.32      0.16      0.21      1540\n",
            "         4.0       0.33      0.14      0.20      1195\n",
            "\n",
            "    accuracy                           0.43     11550\n",
            "   macro avg       0.40      0.39      0.37     11550\n",
            "weighted avg       0.42      0.43      0.40     11550\n",
            "\n"
          ]
        }
      ]
    },
    {
      "cell_type": "code",
      "source": [
        "BERT_test_SVM = BERT_test.withColumn(\n",
        "      \"flattened_sentence_embeddings\",\n",
        "      F.flatten(F.col(\"sentence_embeddings.embeddings\"))\n",
        "  )\n",
        "\n",
        "BERT_test_SVM = BERT_test_SVM.select(\n",
        "    \"condition_label\",\n",
        "    \"medical_abstract\",\n",
        "    \"document\",\n",
        "    \"sentence\",\n",
        "    \"sentence_embeddings\",\n",
        "    \"flattened_sentence_embeddings\",\n",
        "    slice(\"flattened_sentence_embeddings\", 1, 100).alias(\"features\")\n",
        ")\n",
        "\n",
        "BERT_test_SVM = stringIndexer.fit(BERT_test_SVM).transform(BERT_test_SVM)\n",
        "\n",
        "  # Convert the flattened array into a vector\n",
        "to_vector_udf = F.udf(lambda a: Vectors.dense(a), VectorUDT())\n",
        "BERT_test_SVM = BERT_test_SVM.withColumn(\n",
        "      \"features\",\n",
        "      to_vector_udf(F.col(\"features\"))\n",
        ")"
      ],
      "metadata": {
        "id": "vx0KWmXb3yz6"
      },
      "execution_count": null,
      "outputs": []
    },
    {
      "cell_type": "code",
      "source": [
        "svm_evaluate(SVM_BERT_model, BERT_test_SVM,\"SVM BERT\", \"Test Set\")"
      ],
      "metadata": {
        "colab": {
          "base_uri": "https://localhost:8080/"
        },
        "id": "f4bwCSJsmovX",
        "outputId": "d4f0724b-da14-4909-8700-49ba632fa392"
      },
      "execution_count": null,
      "outputs": [
        {
          "output_type": "stream",
          "name": "stdout",
          "text": [
            "SVM BERT\n",
            "Test Set\n",
            "              precision    recall  f1-score   support\n",
            "\n",
            "         0.0       0.39      0.22      0.28       961\n",
            "         1.0       0.39      0.79      0.52       633\n",
            "         2.0       0.41      0.58      0.48       610\n",
            "         3.0       0.31      0.13      0.18       385\n",
            "         4.0       0.27      0.05      0.09       299\n",
            "\n",
            "    accuracy                           0.39      2888\n",
            "   macro avg       0.35      0.35      0.31      2888\n",
            "weighted avg       0.37      0.39      0.34      2888\n",
            "\n"
          ]
        }
      ]
    }
  ],
  "metadata": {
    "kernelspec": {
      "display_name": "Python 3",
      "name": "python3"
    },
    "language_info": {
      "codemirror_mode": {
        "name": "ipython",
        "version": 3
      },
      "file_extension": ".py",
      "mimetype": "text/x-python",
      "name": "python",
      "nbconvert_exporter": "python",
      "pygments_lexer": "ipython3",
      "version": "3.10.6"
    },
    "orig_nbformat": 4,
    "colab": {
      "provenance": [],
      "gpuType": "T4",
      "collapsed_sections": [
        "auVzBbCVPcT9",
        "gjO4LZCVPcUE",
        "FgmHZTWU4MYx",
        "hVPDDKeL6RMB",
        "YL2ml0njAquH",
        "3E4zm7hYzhXc",
        "_iJ0Soc4HfJT",
        "7AlQKBiOizG8"
      ]
    }
  },
  "nbformat": 4,
  "nbformat_minor": 0
}